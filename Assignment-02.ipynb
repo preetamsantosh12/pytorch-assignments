{
 "cells": [
  {
   "cell_type": "code",
   "execution_count": 3,
   "id": "49825675",
   "metadata": {},
   "outputs": [
    {
     "data": {
      "application/javascript": [
       "if (window.IPython && IPython.notebook.kernel) IPython.notebook.kernel.execute('jovian.utils.jupyter.get_notebook_name_saved = lambda: \"' + IPython.notebook.notebook_name + '\"')"
      ],
      "text/plain": [
       "<IPython.core.display.Javascript object>"
      ]
     },
     "metadata": {},
     "output_type": "display_data"
    }
   ],
   "source": [
    "import torch\n",
    "import jovian\n",
    "import torchvision\n",
    "import torch.nn as nn\n",
    "import pandas as pd\n",
    "import torch.nn.functional as F\n",
    "import matplotlib.pyplot as plt\n",
    "from torchvision.datasets.utils import download_url\n",
    "from torch.utils.data import DataLoader, TensorDataset, random_split"
   ]
  },
  {
   "cell_type": "code",
   "execution_count": 4,
   "id": "96c73d8c",
   "metadata": {},
   "outputs": [],
   "source": [
    "project_name = '02-insurance-linear-regression'"
   ]
  },
  {
   "cell_type": "code",
   "execution_count": 5,
   "id": "7088efb9",
   "metadata": {},
   "outputs": [
    {
     "name": "stdout",
     "output_type": "stream",
     "text": [
      "Using downloaded and verified file: ./insurance.csv\n"
     ]
    }
   ],
   "source": [
    "DATASET_UTL = \"https://hub.jovian.ml/wp-content/uploads/2020/05/insurance.csv\"\n",
    "DATA_FILENAME = 'insurance.csv'\n",
    "download_url(DATASET_UTL, '.')"
   ]
  },
  {
   "cell_type": "code",
   "execution_count": 6,
   "id": "b184bb73",
   "metadata": {},
   "outputs": [
    {
     "data": {
      "text/html": [
       "<div>\n",
       "<style scoped>\n",
       "    .dataframe tbody tr th:only-of-type {\n",
       "        vertical-align: middle;\n",
       "    }\n",
       "\n",
       "    .dataframe tbody tr th {\n",
       "        vertical-align: top;\n",
       "    }\n",
       "\n",
       "    .dataframe thead th {\n",
       "        text-align: right;\n",
       "    }\n",
       "</style>\n",
       "<table border=\"1\" class=\"dataframe\">\n",
       "  <thead>\n",
       "    <tr style=\"text-align: right;\">\n",
       "      <th></th>\n",
       "      <th>age</th>\n",
       "      <th>sex</th>\n",
       "      <th>bmi</th>\n",
       "      <th>children</th>\n",
       "      <th>smoker</th>\n",
       "      <th>region</th>\n",
       "      <th>charges</th>\n",
       "    </tr>\n",
       "  </thead>\n",
       "  <tbody>\n",
       "    <tr>\n",
       "      <th>0</th>\n",
       "      <td>19</td>\n",
       "      <td>female</td>\n",
       "      <td>27.900</td>\n",
       "      <td>0</td>\n",
       "      <td>yes</td>\n",
       "      <td>southwest</td>\n",
       "      <td>16884.92400</td>\n",
       "    </tr>\n",
       "    <tr>\n",
       "      <th>1</th>\n",
       "      <td>18</td>\n",
       "      <td>male</td>\n",
       "      <td>33.770</td>\n",
       "      <td>1</td>\n",
       "      <td>no</td>\n",
       "      <td>southeast</td>\n",
       "      <td>1725.55230</td>\n",
       "    </tr>\n",
       "    <tr>\n",
       "      <th>2</th>\n",
       "      <td>28</td>\n",
       "      <td>male</td>\n",
       "      <td>33.000</td>\n",
       "      <td>3</td>\n",
       "      <td>no</td>\n",
       "      <td>southeast</td>\n",
       "      <td>4449.46200</td>\n",
       "    </tr>\n",
       "    <tr>\n",
       "      <th>3</th>\n",
       "      <td>33</td>\n",
       "      <td>male</td>\n",
       "      <td>22.705</td>\n",
       "      <td>0</td>\n",
       "      <td>no</td>\n",
       "      <td>northwest</td>\n",
       "      <td>21984.47061</td>\n",
       "    </tr>\n",
       "    <tr>\n",
       "      <th>4</th>\n",
       "      <td>32</td>\n",
       "      <td>male</td>\n",
       "      <td>28.880</td>\n",
       "      <td>0</td>\n",
       "      <td>no</td>\n",
       "      <td>northwest</td>\n",
       "      <td>3866.85520</td>\n",
       "    </tr>\n",
       "  </tbody>\n",
       "</table>\n",
       "</div>"
      ],
      "text/plain": [
       "   age     sex     bmi  children smoker     region      charges\n",
       "0   19  female  27.900         0    yes  southwest  16884.92400\n",
       "1   18    male  33.770         1     no  southeast   1725.55230\n",
       "2   28    male  33.000         3     no  southeast   4449.46200\n",
       "3   33    male  22.705         0     no  northwest  21984.47061\n",
       "4   32    male  28.880         0     no  northwest   3866.85520"
      ]
     },
     "execution_count": 6,
     "metadata": {},
     "output_type": "execute_result"
    }
   ],
   "source": [
    "dataframe_raw = pd.read_csv(DATA_FILENAME)\n",
    "dataframe_raw.head()"
   ]
  },
  {
   "cell_type": "code",
   "execution_count": 7,
   "id": "b053e2b1",
   "metadata": {},
   "outputs": [],
   "source": [
    "your_name = \"presz\""
   ]
  },
  {
   "cell_type": "code",
   "execution_count": 8,
   "id": "8386fccf",
   "metadata": {},
   "outputs": [],
   "source": [
    "def customized_dataset(dataframe_raw, rand_str):\n",
    "    dataframe = dataframe_raw.copy(deep=True)\n",
    "    \n",
    "    dataframe = dataframe.sample(int(0.95*len(dataframe)), random_state = int(ord(rand_str[0])))\n",
    "    \n",
    "    dataframe.bmi = dataframe.bmi * ord(rand_str[1])/100.\n",
    "    \n",
    "    dataframe.charges = dataframe.charges * ord(rand_str[2])/100.\n",
    "    \n",
    "    if(ord(rand_str[3]) % 2 ==1):\n",
    "        dataframe = dataframe.drop(['region'], axis = 1)\n",
    "    return dataframe"
   ]
  },
  {
   "cell_type": "code",
   "execution_count": 9,
   "id": "8d524ec5",
   "metadata": {},
   "outputs": [
    {
     "data": {
      "text/html": [
       "<div>\n",
       "<style scoped>\n",
       "    .dataframe tbody tr th:only-of-type {\n",
       "        vertical-align: middle;\n",
       "    }\n",
       "\n",
       "    .dataframe tbody tr th {\n",
       "        vertical-align: top;\n",
       "    }\n",
       "\n",
       "    .dataframe thead th {\n",
       "        text-align: right;\n",
       "    }\n",
       "</style>\n",
       "<table border=\"1\" class=\"dataframe\">\n",
       "  <thead>\n",
       "    <tr style=\"text-align: right;\">\n",
       "      <th></th>\n",
       "      <th>age</th>\n",
       "      <th>sex</th>\n",
       "      <th>bmi</th>\n",
       "      <th>children</th>\n",
       "      <th>smoker</th>\n",
       "      <th>charges</th>\n",
       "    </tr>\n",
       "  </thead>\n",
       "  <tbody>\n",
       "    <tr>\n",
       "      <th>13</th>\n",
       "      <td>56</td>\n",
       "      <td>female</td>\n",
       "      <td>45.3948</td>\n",
       "      <td>0</td>\n",
       "      <td>no</td>\n",
       "      <td>11201.624978</td>\n",
       "    </tr>\n",
       "    <tr>\n",
       "      <th>367</th>\n",
       "      <td>42</td>\n",
       "      <td>female</td>\n",
       "      <td>28.4829</td>\n",
       "      <td>2</td>\n",
       "      <td>no</td>\n",
       "      <td>8097.231762</td>\n",
       "    </tr>\n",
       "    <tr>\n",
       "      <th>623</th>\n",
       "      <td>18</td>\n",
       "      <td>male</td>\n",
       "      <td>38.2299</td>\n",
       "      <td>0</td>\n",
       "      <td>yes</td>\n",
       "      <td>34964.019056</td>\n",
       "    </tr>\n",
       "    <tr>\n",
       "      <th>1281</th>\n",
       "      <td>47</td>\n",
       "      <td>female</td>\n",
       "      <td>31.5153</td>\n",
       "      <td>2</td>\n",
       "      <td>yes</td>\n",
       "      <td>24781.055536</td>\n",
       "    </tr>\n",
       "    <tr>\n",
       "      <th>966</th>\n",
       "      <td>51</td>\n",
       "      <td>male</td>\n",
       "      <td>28.2663</td>\n",
       "      <td>2</td>\n",
       "      <td>yes</td>\n",
       "      <td>24207.056881</td>\n",
       "    </tr>\n",
       "  </tbody>\n",
       "</table>\n",
       "</div>"
      ],
      "text/plain": [
       "      age     sex      bmi  children smoker       charges\n",
       "13     56  female  45.3948         0     no  11201.624978\n",
       "367    42  female  28.4829         2     no   8097.231762\n",
       "623    18    male  38.2299         0    yes  34964.019056\n",
       "1281   47  female  31.5153         2    yes  24781.055536\n",
       "966    51    male  28.2663         2    yes  24207.056881"
      ]
     },
     "execution_count": 9,
     "metadata": {},
     "output_type": "execute_result"
    }
   ],
   "source": [
    "dataframe = customized_dataset(dataframe_raw, your_name)\n",
    "dataframe.head()"
   ]
  },
  {
   "cell_type": "code",
   "execution_count": 10,
   "id": "457e7843",
   "metadata": {},
   "outputs": [
    {
     "name": "stdout",
     "output_type": "stream",
     "text": [
      "1271\n"
     ]
    }
   ],
   "source": [
    "#Q1\n",
    "num_rows = (len(dataframe))\n",
    "print(num_rows)"
   ]
  },
  {
   "cell_type": "code",
   "execution_count": 11,
   "id": "e404229f",
   "metadata": {},
   "outputs": [
    {
     "name": "stdout",
     "output_type": "stream",
     "text": [
      "6\n"
     ]
    }
   ],
   "source": [
    "#Q2\n",
    "num_cols = len(dataframe.columns)\n",
    "print(num_cols)"
   ]
  },
  {
   "cell_type": "code",
   "execution_count": 12,
   "id": "88a76e5f",
   "metadata": {},
   "outputs": [
    {
     "name": "stdout",
     "output_type": "stream",
     "text": [
      "['age', 'sex', 'bmi', 'children', 'smoker']\n"
     ]
    }
   ],
   "source": [
    "#Q3\n",
    "input_cols = [cols for cols in dataframe.columns]\n",
    "input_cols = input_cols[0:5]\n",
    "print(input_cols)"
   ]
  },
  {
   "cell_type": "code",
   "execution_count": 13,
   "id": "a590ac29",
   "metadata": {},
   "outputs": [
    {
     "name": "stdout",
     "output_type": "stream",
     "text": [
      "         sex smoker\n",
      "13    female     no\n",
      "367   female     no\n",
      "623     male    yes\n",
      "1281  female    yes\n",
      "966     male    yes\n",
      "...      ...    ...\n",
      "1148    male     no\n",
      "628     male     no\n",
      "546     male     no\n",
      "971   female     no\n",
      "932     male     no\n",
      "\n",
      "[1271 rows x 2 columns]\n"
     ]
    }
   ],
   "source": [
    "#Q4 \n",
    "categorical_cols = dataframe.select_dtypes(exclude = ['int64', 'float64'])\n",
    "print(categorical_cols)"
   ]
  },
  {
   "cell_type": "code",
   "execution_count": 14,
   "id": "0d1aa3bc",
   "metadata": {},
   "outputs": [
    {
     "name": "stdout",
     "output_type": "stream",
     "text": [
      "['charges']\n"
     ]
    }
   ],
   "source": [
    "#Q5\n",
    "# dataframe.info()\n",
    "output_cols = ['charges']\n",
    "print(output_cols)"
   ]
  },
  {
   "cell_type": "code",
   "execution_count": 15,
   "id": "d1db81d0",
   "metadata": {},
   "outputs": [],
   "source": [
    "## jovian.commit"
   ]
  },
  {
   "cell_type": "code",
   "execution_count": 16,
   "id": "08852537",
   "metadata": {},
   "outputs": [],
   "source": [
    "def dataframe_to_arrays(dataframe):\n",
    "    dataframe1 = dataframe.copy(deep=True)\n",
    "    \n",
    "    for col in categorical_cols:\n",
    "        dataframe1[col] = dataframe1[col].astype('category').cat.codes\n",
    "        \n",
    "    inputs_array=dataframe1[input_cols].to_numpy()\n",
    "    targets_array=dataframe1[output_cols].to_numpy()\n",
    "    return inputs_array, targets_array"
   ]
  },
  {
   "cell_type": "code",
   "execution_count": 17,
   "id": "c7fff5d3",
   "metadata": {},
   "outputs": [
    {
     "data": {
      "text/plain": [
       "(array([[56.    ,  0.    , 45.3948,  0.    ,  0.    ],\n",
       "        [42.    ,  0.    , 28.4829,  2.    ,  0.    ],\n",
       "        [18.    ,  1.    , 38.2299,  0.    ,  1.    ],\n",
       "        ...,\n",
       "        [28.    ,  1.    , 40.3959,  0.    ,  0.    ],\n",
       "        [34.    ,  0.    , 26.8584,  0.    ,  0.    ],\n",
       "        [46.    ,  1.    , 29.412 ,  5.    ,  0.    ]]),\n",
       " array([[11201.624978 ],\n",
       "        [ 8097.2317615],\n",
       "        [34964.0190565],\n",
       "        ...,\n",
       "        [ 3301.5351165],\n",
       "        [ 5042.300164 ],\n",
       "        [10197.9397   ]]))"
      ]
     },
     "execution_count": 17,
     "metadata": {},
     "output_type": "execute_result"
    }
   ],
   "source": [
    "inputs_array, targets_array = dataframe_to_arrays(dataframe)\n",
    "inputs_array, targets_array"
   ]
  },
  {
   "cell_type": "code",
   "execution_count": 106,
   "id": "b1f20a5c",
   "metadata": {},
   "outputs": [
    {
     "ename": "TypeError",
     "evalue": "stack(): argument 'tensors' (position 1) must be tuple of Tensors, not Tensor",
     "output_type": "error",
     "traceback": [
      "\u001b[0;31m---------------------------------------------------------------------------\u001b[0m",
      "\u001b[0;31mTypeError\u001b[0m                                 Traceback (most recent call last)",
      "\u001b[0;32m/tmp/ipykernel_76049/2808023785.py\u001b[0m in \u001b[0;36m<module>\u001b[0;34m\u001b[0m\n\u001b[1;32m      3\u001b[0m \u001b[0;34m\u001b[0m\u001b[0m\n\u001b[1;32m      4\u001b[0m \u001b[0;31m## Using .float to cast it to 32 bit float\u001b[0m\u001b[0;34m\u001b[0m\u001b[0;34m\u001b[0m\u001b[0m\n\u001b[0;32m----> 5\u001b[0;31m \u001b[0mprint\u001b[0m\u001b[0;34m(\u001b[0m\u001b[0mtorch\u001b[0m\u001b[0;34m.\u001b[0m\u001b[0mstack\u001b[0m\u001b[0;34m(\u001b[0m\u001b[0mtargets\u001b[0m\u001b[0;34m)\u001b[0m\u001b[0;34m.\u001b[0m\u001b[0mmean\u001b[0m\u001b[0;34m(\u001b[0m\u001b[0;34m)\u001b[0m\u001b[0;34m)\u001b[0m\u001b[0;34m\u001b[0m\u001b[0;34m\u001b[0m\u001b[0m\n\u001b[0m",
      "\u001b[0;31mTypeError\u001b[0m: stack(): argument 'tensors' (position 1) must be tuple of Tensors, not Tensor"
     ]
    }
   ],
   "source": [
    "inputs = torch.from_numpy(inputs_array).float()\n",
    "targets = torch.from_numpy(targets_array).float()\n",
    "\n",
    "## Using .float to cast it to 32 bit float"
   ]
  },
  {
   "cell_type": "code",
   "execution_count": 19,
   "id": "9e3cf85a",
   "metadata": {},
   "outputs": [
    {
     "data": {
      "text/plain": [
       "(torch.float32, torch.float32)"
      ]
     },
     "execution_count": 19,
     "metadata": {},
     "output_type": "execute_result"
    }
   ],
   "source": [
    "inputs.dtype, targets.dtype"
   ]
  },
  {
   "cell_type": "code",
   "execution_count": 114,
   "id": "5c52fa5a",
   "metadata": {},
   "outputs": [
    {
     "name": "stdout",
     "output_type": "stream",
     "text": [
      "13458.252626480595\n"
     ]
    }
   ],
   "source": [
    "mean = 0\n",
    "for yb in targets:\n",
    "    mean +=yb.item()\n",
    "print(mean/len(targets))"
   ]
  },
  {
   "cell_type": "code",
   "execution_count": 20,
   "id": "c0d17114",
   "metadata": {},
   "outputs": [],
   "source": [
    "dataset = TensorDataset(inputs, targets) ## 1271"
   ]
  },
  {
   "cell_type": "code",
   "execution_count": 21,
   "id": "34f48e98",
   "metadata": {},
   "outputs": [],
   "source": [
    "val_percent = 0.121\n",
    "val_size = int(num_rows * val_percent) ## 153\n",
    "train_size = num_rows - val_size ## 1118\n",
    "\n",
    "train_ds, val_ds = random_split(dataset, [train_size, val_size])"
   ]
  },
  {
   "cell_type": "code",
   "execution_count": 193,
   "id": "439db3ed",
   "metadata": {},
   "outputs": [],
   "source": [
    "batch_size = 26"
   ]
  },
  {
   "cell_type": "code",
   "execution_count": 194,
   "id": "be39ec68",
   "metadata": {},
   "outputs": [],
   "source": [
    "train_loader = DataLoader(train_ds, batch_size, shuffle=True)\n",
    "val_loader = DataLoader(val_ds, batch_size)"
   ]
  },
  {
   "cell_type": "code",
   "execution_count": 195,
   "id": "c9234be8",
   "metadata": {},
   "outputs": [
    {
     "name": "stdout",
     "output_type": "stream",
     "text": [
      "inputs: tensor([[53.0000,  1.0000, 35.7390,  0.0000,  0.0000],\n",
      "        [59.0000,  0.0000, 39.6720,  2.0000,  0.0000],\n",
      "        [27.0000,  1.0000, 34.7700,  0.0000,  0.0000],\n",
      "        [33.0000,  0.0000, 48.9516,  3.0000,  0.0000],\n",
      "        [48.0000,  0.0000, 31.8402,  4.0000,  0.0000],\n",
      "        [37.0000,  0.0000, 54.2640,  2.0000,  1.0000],\n",
      "        [52.0000,  0.0000, 35.0892,  1.0000,  0.0000],\n",
      "        [27.0000,  1.0000, 33.2310,  0.0000,  1.0000],\n",
      "        [51.0000,  1.0000, 27.8331,  4.0000,  0.0000],\n",
      "        [40.0000,  1.0000, 34.0860,  2.0000,  0.0000],\n",
      "        [33.0000,  1.0000, 33.5160,  4.0000,  0.0000],\n",
      "        [50.0000,  1.0000, 51.0378,  1.0000,  0.0000],\n",
      "        [35.0000,  1.0000, 31.6236,  2.0000,  1.0000],\n",
      "        [48.0000,  0.0000, 47.0022,  4.0000,  0.0000],\n",
      "        [52.0000,  0.0000, 50.9580,  3.0000,  0.0000],\n",
      "        [39.0000,  0.0000, 38.8740,  3.0000,  0.0000],\n",
      "        [64.0000,  0.0000, 34.3311,  3.0000,  0.0000],\n",
      "        [18.0000,  0.0000, 36.6168,  2.0000,  0.0000],\n",
      "        [32.0000,  1.0000, 32.0568,  4.0000,  1.0000],\n",
      "        [46.0000,  1.0000, 34.7643,  3.0000,  1.0000],\n",
      "        [55.0000,  1.0000, 34.0860,  0.0000,  0.0000],\n",
      "        [45.0000,  1.0000, 34.6104,  0.0000,  1.0000],\n",
      "        [18.0000,  1.0000, 29.0244,  0.0000,  0.0000],\n",
      "        [58.0000,  1.0000, 36.4914,  1.0000,  0.0000],\n",
      "        [47.0000,  0.0000, 30.3240,  2.0000,  0.0000],\n",
      "        [22.0000,  1.0000, 28.6995,  0.0000,  0.0000]])\n",
      "targets: tensor([[27619.5020],\n",
      "        [37279.7148],\n",
      "        [ 2518.9622],\n",
      "        [ 6424.6035],\n",
      "        [11125.3262],\n",
      "        [46574.6445],\n",
      "        [10905.3096],\n",
      "        [18428.9609],\n",
      "        [11635.3008],\n",
      "        [ 6666.3647],\n",
      "        [ 6119.7646],\n",
      "        [ 9149.3174],\n",
      "        [21193.9336],\n",
      "        [11143.9980],\n",
      "        [11525.8018],\n",
      "        [ 7492.7070],\n",
      "        [16620.2656],\n",
      "        [ 2829.2715],\n",
      "        [21687.2031],\n",
      "        [41127.7578],\n",
      "        [10316.7822],\n",
      "        [63218.8008],\n",
      "        [ 1725.0814],\n",
      "        [12066.0918],\n",
      "        [ 9812.9990],\n",
      "        [ 2066.1421]])\n"
     ]
    }
   ],
   "source": [
    "for xb, yb in train_loader:\n",
    "    print(\"inputs:\", xb)\n",
    "    print(\"targets:\", yb)\n",
    "    break"
   ]
  },
  {
   "cell_type": "code",
   "execution_count": 25,
   "id": "794d6b2a",
   "metadata": {},
   "outputs": [
    {
     "data": {
      "application/javascript": [
       "window.require && require([\"base/js/namespace\"],function(Jupyter){Jupyter.notebook.save_checkpoint()})"
      ],
      "text/plain": [
       "<IPython.core.display.Javascript object>"
      ]
     },
     "metadata": {},
     "output_type": "display_data"
    },
    {
     "name": "stdout",
     "output_type": "stream",
     "text": [
      "[jovian] Updating notebook \"presz/assignment-02\" on https://jovian.ai/\u001b[0m\n",
      "[jovian] Committed successfully! https://jovian.ai/presz/assignment-02\u001b[0m\n"
     ]
    },
    {
     "data": {
      "text/plain": [
       "'https://jovian.ai/presz/assignment-02'"
      ]
     },
     "execution_count": 25,
     "metadata": {},
     "output_type": "execute_result"
    }
   ],
   "source": [
    "jovian.commit(environment = None)"
   ]
  },
  {
   "cell_type": "markdown",
   "id": "b0255524",
   "metadata": {},
   "source": [
    "## Creating a Linear Regression Model"
   ]
  },
  {
   "cell_type": "code",
   "execution_count": 196,
   "id": "ea05f277",
   "metadata": {},
   "outputs": [
    {
     "name": "stdout",
     "output_type": "stream",
     "text": [
      "5 1\n"
     ]
    }
   ],
   "source": [
    "input_size = len(input_cols)\n",
    "output_size = len(output_cols)\n",
    "print(input_size, output_size)"
   ]
  },
  {
   "cell_type": "code",
   "execution_count": 202,
   "id": "7c7d8aed",
   "metadata": {},
   "outputs": [],
   "source": [
    "import torch.nn.functional as F\n",
    "class InsuranceModel(nn.Module):\n",
    "    def __init__(self):\n",
    "        super().__init__()\n",
    "        self.linear = torch.nn.Linear(input_size, output_size)\n",
    "        \n",
    "    def forward(self, xb):\n",
    "        out = self.linear(xb)\n",
    "        return out\n",
    "\n",
    "    def training_step(self, batch):\n",
    "        inputs, targets = batch\n",
    "        out = self(inputs)\n",
    "        loss = F.huber_loss(out, targets, delta=0.007) #############3\n",
    "        return loss\n",
    "    \n",
    "    def validation_step(self, batch):\n",
    "        inputs, targets = batch\n",
    "        out = self(inputs)\n",
    "        loss = F.huber_loss(out, targets, delta=0.007) #####################\n",
    "        return {'val_loss': loss.detach()}\n",
    "    \n",
    "    def validation_epoch_end(self, outputs):\n",
    "        batch_losses = [x['val_loss'] for x in outputs]\n",
    "        epoch_loss = torch.stack(batch_losses).mean()\n",
    "        return {'val_loss': epoch_loss.item()}\n",
    "    \n",
    "    def epoch_end(self, epoch, result, num_epochs):\n",
    "        if(epoch+1)%20 ==0 or epoch == num_epochs-1:\n",
    "            print(\"Epoch [{}], val_loss: {:.4f}\".format(epoch+1, result['val_loss']))"
   ]
  },
  {
   "cell_type": "code",
   "execution_count": 229,
   "id": "1cf9bfef",
   "metadata": {},
   "outputs": [
    {
     "data": {
      "text/plain": [
       "[Parameter containing:\n",
       " tensor([[ 0.0118,  0.4348,  0.1691, -0.1694, -0.3209]], requires_grad=True),\n",
       " Parameter containing:\n",
       " tensor([0.1014], requires_grad=True)]"
      ]
     },
     "execution_count": 229,
     "metadata": {},
     "output_type": "execute_result"
    }
   ],
   "source": [
    "test_model = InsuranceModel()\n",
    "list(test_model.parameters())"
   ]
  },
  {
   "cell_type": "code",
   "execution_count": 199,
   "id": "71f4baba",
   "metadata": {},
   "outputs": [],
   "source": [
    "def evaluate(model, val_loader):\n",
    "    outputs = [model.validation_step(batch) for batch in val_loader]\n",
    "    return model.validation_epoch_end(outputs)\n",
    "\n",
    "def fit(epochs, lr, model, train_loader, val_loader, opt_func=torch.optim.SGD):\n",
    "    history=[]\n",
    "    optimizer = opt_func(model.parameters(), lr)\n",
    "    for epoch in range(epochs):\n",
    "        # Training phase\n",
    "        for batch in train_loader:\n",
    "            loss = model.training_step(batch)\n",
    "            loss.backward()\n",
    "            optimizer.step()\n",
    "            optimizer.zero_grad()\n",
    "            \n",
    "        # Validation phase\n",
    "        result = evaluate(model, val_loader)\n",
    "        model.epoch_end(epoch, result, epochs)\n",
    "        history.append(result)\n",
    "    return history"
   ]
  },
  {
   "cell_type": "code",
   "execution_count": 230,
   "id": "31b0b8d0",
   "metadata": {},
   "outputs": [
    {
     "name": "stdout",
     "output_type": "stream",
     "text": [
      "{'val_loss': 99.48657989501953}\n"
     ]
    }
   ],
   "source": [
    "result = evaluate(test_model, val_loader)\n",
    "print(result)"
   ]
  },
  {
   "cell_type": "code",
   "execution_count": 231,
   "id": "56774a88",
   "metadata": {},
   "outputs": [
    {
     "name": "stdout",
     "output_type": "stream",
     "text": [
      "Epoch [20], val_loss: 64.2684\n",
      "Epoch [40], val_loss: 61.9638\n",
      "Epoch [60], val_loss: 61.7693\n",
      "Epoch [80], val_loss: 61.4970\n",
      "Epoch [100], val_loss: 61.2046\n"
     ]
    },
    {
     "data": {
      "text/plain": [
       "[Parameter containing:\n",
       " tensor([[162.8654,   1.1501,  60.3865,   3.2670,   2.6810]],\n",
       "        requires_grad=True),\n",
       " Parameter containing:\n",
       " tensor([1.9127], requires_grad=True)]"
      ]
     },
     "execution_count": 231,
     "metadata": {},
     "output_type": "execute_result"
    }
   ],
   "source": [
    "epochs = 100\n",
    "lr = 0.5\n",
    "history1 = fit(epochs, lr, test_model, train_loader, val_loader)\n",
    "list(test_model.parameters())"
   ]
  },
  {
   "cell_type": "code",
   "execution_count": 232,
   "id": "ec76607b",
   "metadata": {},
   "outputs": [
    {
     "name": "stdout",
     "output_type": "stream",
     "text": [
      "Epoch [20], val_loss: 61.1745\n",
      "Epoch [40], val_loss: 61.1452\n",
      "Epoch [60], val_loss: 61.1165\n",
      "Epoch [80], val_loss: 61.0883\n",
      "Epoch [100], val_loss: 61.0599\n",
      "Epoch [120], val_loss: 61.0310\n",
      "Epoch [140], val_loss: 61.0021\n",
      "Epoch [160], val_loss: 60.9734\n",
      "Epoch [180], val_loss: 60.9450\n",
      "Epoch [200], val_loss: 60.9163\n",
      "Epoch [220], val_loss: 60.8876\n",
      "Epoch [240], val_loss: 60.8588\n",
      "Epoch [260], val_loss: 60.8300\n",
      "Epoch [280], val_loss: 60.8017\n",
      "Epoch [300], val_loss: 60.7732\n",
      "Epoch [320], val_loss: 60.7440\n",
      "Epoch [340], val_loss: 60.7150\n",
      "Epoch [360], val_loss: 60.6875\n",
      "Epoch [380], val_loss: 60.6608\n",
      "Epoch [400], val_loss: 60.6337\n",
      "Epoch [420], val_loss: 60.6071\n",
      "Epoch [440], val_loss: 60.5812\n",
      "Epoch [460], val_loss: 60.5553\n",
      "Epoch [480], val_loss: 60.5294\n",
      "Epoch [500], val_loss: 60.5036\n",
      "Epoch [520], val_loss: 60.4777\n",
      "Epoch [540], val_loss: 60.4523\n",
      "Epoch [560], val_loss: 60.4271\n",
      "Epoch [580], val_loss: 60.4017\n",
      "Epoch [600], val_loss: 60.3774\n",
      "Epoch [620], val_loss: 60.3531\n",
      "Epoch [640], val_loss: 60.3288\n",
      "Epoch [660], val_loss: 60.3042\n",
      "Epoch [680], val_loss: 60.2792\n",
      "Epoch [700], val_loss: 60.2549\n",
      "Epoch [720], val_loss: 60.2301\n",
      "Epoch [740], val_loss: 60.2052\n",
      "Epoch [760], val_loss: 60.1808\n",
      "Epoch [780], val_loss: 60.1568\n",
      "Epoch [800], val_loss: 60.1329\n",
      "Epoch [820], val_loss: 60.1090\n",
      "Epoch [840], val_loss: 60.0851\n",
      "Epoch [860], val_loss: 60.0613\n",
      "Epoch [880], val_loss: 60.0378\n",
      "Epoch [900], val_loss: 60.0138\n",
      "Epoch [920], val_loss: 59.9895\n",
      "Epoch [940], val_loss: 59.9651\n",
      "Epoch [960], val_loss: 59.9408\n",
      "Epoch [980], val_loss: 59.9164\n",
      "Epoch [1000], val_loss: 59.8921\n"
     ]
    }
   ],
   "source": [
    "epochs = 1000\n",
    "lr = 0.05\n",
    "history2=fit(epochs, lr, test_model, train_loader, val_loader)"
   ]
  },
  {
   "cell_type": "code",
   "execution_count": 233,
   "id": "4b7461d4",
   "metadata": {},
   "outputs": [
    {
     "name": "stdout",
     "output_type": "stream",
     "text": [
      "Epoch [20], val_loss: 59.8434\n",
      "Epoch [40], val_loss: 59.7949\n",
      "Epoch [60], val_loss: 59.7484\n",
      "Epoch [80], val_loss: 59.7021\n",
      "Epoch [100], val_loss: 59.6572\n",
      "Epoch [120], val_loss: 59.6128\n",
      "Epoch [140], val_loss: 59.5670\n",
      "Epoch [160], val_loss: 59.5201\n",
      "Epoch [180], val_loss: 59.4734\n",
      "Epoch [200], val_loss: 59.4268\n",
      "Epoch [220], val_loss: 59.3817\n",
      "Epoch [240], val_loss: 59.3389\n",
      "Epoch [260], val_loss: 59.3003\n",
      "Epoch [280], val_loss: 59.2619\n",
      "Epoch [300], val_loss: 59.2235\n",
      "Epoch [320], val_loss: 59.1864\n",
      "Epoch [340], val_loss: 59.1515\n",
      "Epoch [360], val_loss: 59.1166\n",
      "Epoch [380], val_loss: 59.0823\n",
      "Epoch [400], val_loss: 59.0476\n",
      "Epoch [420], val_loss: 59.0156\n",
      "Epoch [440], val_loss: 58.9844\n",
      "Epoch [460], val_loss: 58.9528\n",
      "Epoch [480], val_loss: 58.9201\n",
      "Epoch [500], val_loss: 58.8866\n"
     ]
    }
   ],
   "source": [
    "epochs = 500\n",
    "lr = 0.1\n",
    "history3=fit(epochs, lr, test_model, train_loader, val_loader)"
   ]
  },
  {
   "cell_type": "code",
   "execution_count": 234,
   "id": "1b9f6782",
   "metadata": {},
   "outputs": [
    {
     "name": "stdout",
     "output_type": "stream",
     "text": [
      "Epoch [20], val_loss: 58.8298\n",
      "Epoch [40], val_loss: 58.7725\n",
      "Epoch [60], val_loss: 58.7173\n",
      "Epoch [80], val_loss: 58.6679\n",
      "Epoch [100], val_loss: 58.6293\n",
      "Epoch [120], val_loss: 58.5924\n",
      "Epoch [140], val_loss: 58.5589\n",
      "Epoch [160], val_loss: 58.5299\n",
      "Epoch [180], val_loss: 58.5016\n",
      "Epoch [200], val_loss: 58.4715\n",
      "Epoch [220], val_loss: 58.4438\n",
      "Epoch [240], val_loss: 58.4192\n",
      "Epoch [260], val_loss: 58.3955\n",
      "Epoch [280], val_loss: 58.3762\n",
      "Epoch [300], val_loss: 58.3569\n",
      "Epoch [320], val_loss: 58.3406\n",
      "Epoch [340], val_loss: 58.3225\n",
      "Epoch [360], val_loss: 58.3032\n",
      "Epoch [380], val_loss: 58.2888\n",
      "Epoch [400], val_loss: 58.2724\n",
      "Epoch [420], val_loss: 58.2544\n",
      "Epoch [440], val_loss: 58.2400\n",
      "Epoch [460], val_loss: 58.2343\n",
      "Epoch [480], val_loss: 58.2308\n",
      "Epoch [500], val_loss: 58.2266\n",
      "Epoch [520], val_loss: 58.2166\n",
      "Epoch [540], val_loss: 58.2074\n",
      "Epoch [560], val_loss: 58.2011\n",
      "Epoch [580], val_loss: 58.1944\n",
      "Epoch [600], val_loss: 58.1899\n",
      "Epoch [620], val_loss: 58.1856\n",
      "Epoch [640], val_loss: 58.1816\n",
      "Epoch [660], val_loss: 58.1809\n",
      "Epoch [680], val_loss: 58.1754\n",
      "Epoch [700], val_loss: 58.1717\n",
      "Epoch [720], val_loss: 58.1693\n",
      "Epoch [740], val_loss: 58.1657\n",
      "Epoch [760], val_loss: 58.1625\n",
      "Epoch [780], val_loss: 58.1587\n",
      "Epoch [800], val_loss: 58.1538\n",
      "Epoch [820], val_loss: 58.1498\n",
      "Epoch [840], val_loss: 58.1459\n",
      "Epoch [860], val_loss: 58.1421\n",
      "Epoch [880], val_loss: 58.1388\n",
      "Epoch [900], val_loss: 58.1348\n",
      "Epoch [920], val_loss: 58.1307\n",
      "Epoch [940], val_loss: 58.1287\n",
      "Epoch [960], val_loss: 58.1262\n",
      "Epoch [980], val_loss: 58.1240\n",
      "Epoch [1000], val_loss: 58.1217\n"
     ]
    }
   ],
   "source": [
    "epochs = 1000\n",
    "lr = 0.2\n",
    "history4=fit(epochs, lr, test_model, train_loader, val_loader)"
   ]
  },
  {
   "cell_type": "code",
   "execution_count": 235,
   "id": "1f992aa8",
   "metadata": {},
   "outputs": [
    {
     "data": {
      "application/javascript": [
       "window.require && require([\"base/js/namespace\"],function(Jupyter){Jupyter.notebook.save_checkpoint()})"
      ],
      "text/plain": [
       "<IPython.core.display.Javascript object>"
      ]
     },
     "metadata": {},
     "output_type": "display_data"
    },
    {
     "name": "stdout",
     "output_type": "stream",
     "text": [
      "[jovian] Updating notebook \"presz/assignment-02\" on https://jovian.ai/\u001b[0m\n",
      "[jovian] Committed successfully! https://jovian.ai/presz/assignment-02\u001b[0m\n"
     ]
    },
    {
     "data": {
      "text/plain": [
       "'https://jovian.ai/presz/assignment-02'"
      ]
     },
     "execution_count": 235,
     "metadata": {},
     "output_type": "execute_result"
    }
   ],
   "source": [
    "jovian.commit()"
   ]
  },
  {
   "cell_type": "code",
   "execution_count": 239,
   "id": "bccc4287",
   "metadata": {},
   "outputs": [
    {
     "name": "stdout",
     "output_type": "stream",
     "text": [
      "Epoch [20], val_loss: 58.1219\n",
      "Epoch [40], val_loss: 58.1218\n",
      "Epoch [60], val_loss: 58.1218\n",
      "Epoch [80], val_loss: 58.1217\n",
      "Epoch [100], val_loss: 58.1216\n",
      "Epoch [120], val_loss: 58.1215\n",
      "Epoch [140], val_loss: 58.1214\n",
      "Epoch [160], val_loss: 58.1213\n",
      "Epoch [180], val_loss: 58.1212\n",
      "Epoch [200], val_loss: 58.1211\n",
      "Epoch [220], val_loss: 58.1210\n",
      "Epoch [240], val_loss: 58.1209\n",
      "Epoch [260], val_loss: 58.1208\n",
      "Epoch [280], val_loss: 58.1207\n",
      "Epoch [300], val_loss: 58.1206\n",
      "Epoch [320], val_loss: 58.1205\n",
      "Epoch [340], val_loss: 58.1205\n",
      "Epoch [360], val_loss: 58.1204\n",
      "Epoch [380], val_loss: 58.1203\n",
      "Epoch [400], val_loss: 58.1201\n",
      "Epoch [420], val_loss: 58.1201\n",
      "Epoch [440], val_loss: 58.1200\n",
      "Epoch [460], val_loss: 58.1199\n",
      "Epoch [480], val_loss: 58.1198\n",
      "Epoch [500], val_loss: 58.1197\n",
      "Epoch [520], val_loss: 58.1196\n",
      "Epoch [540], val_loss: 58.1195\n",
      "Epoch [560], val_loss: 58.1194\n",
      "Epoch [580], val_loss: 58.1193\n",
      "Epoch [600], val_loss: 58.1192\n",
      "Epoch [620], val_loss: 58.1191\n",
      "Epoch [640], val_loss: 58.1190\n",
      "Epoch [660], val_loss: 58.1190\n",
      "Epoch [680], val_loss: 58.1188\n",
      "Epoch [700], val_loss: 58.1188\n",
      "Epoch [720], val_loss: 58.1187\n",
      "Epoch [740], val_loss: 58.1185\n",
      "Epoch [760], val_loss: 58.1184\n",
      "Epoch [780], val_loss: 58.1184\n",
      "Epoch [800], val_loss: 58.1183\n",
      "Epoch [820], val_loss: 58.1182\n",
      "Epoch [840], val_loss: 58.1181\n",
      "Epoch [860], val_loss: 58.1180\n",
      "Epoch [880], val_loss: 58.1179\n",
      "Epoch [900], val_loss: 58.1178\n",
      "Epoch [920], val_loss: 58.1177\n",
      "Epoch [940], val_loss: 58.1176\n",
      "Epoch [960], val_loss: 58.1175\n",
      "Epoch [980], val_loss: 58.1175\n",
      "Epoch [1000], val_loss: 58.1173\n"
     ]
    }
   ],
   "source": [
    "epochs = 1000\n",
    "lr = 0.01\n",
    "history5 = fit(epochs, lr, test_model, train_loader, val_loader)"
   ]
  },
  {
   "cell_type": "code",
   "execution_count": 241,
   "id": "9c1aa586",
   "metadata": {},
   "outputs": [
    {
     "name": "stdout",
     "output_type": "stream",
     "text": [
      "{'val_loss': 58.11732864379883}\n"
     ]
    }
   ],
   "source": [
    "val_loss = evaluate(test_model, val_loader)\n",
    "print(val_loss)"
   ]
  },
  {
   "cell_type": "code",
   "execution_count": 243,
   "id": "8ed5e464",
   "metadata": {},
   "outputs": [
    {
     "name": "stdout",
     "output_type": "stream",
     "text": [
      "[jovian] Metrics logged.\u001b[0m\n"
     ]
    }
   ],
   "source": [
    "jovian.log_metrics(val_loss = val_loss)"
   ]
  },
  {
   "cell_type": "code",
   "execution_count": 255,
   "id": "71b0ca9b",
   "metadata": {},
   "outputs": [],
   "source": [
    "def predict_single(input, target, model):\n",
    "    inputs = input.unsqueeze(0)\n",
    "    predictions = model(input)\n",
    "    prediction = predictions[0].detach()\n",
    "    print(\"Input:\", input)\n",
    "    print(\"Target:\", target.item())\n",
    "    print(\"Prediction:\", prediction.item())"
   ]
  },
  {
   "cell_type": "code",
   "execution_count": 256,
   "id": "49f9c689",
   "metadata": {},
   "outputs": [
    {
     "name": "stdout",
     "output_type": "stream",
     "text": [
      "Input: tensor([22.0000,  0.0000, 26.4252,  0.0000,  0.0000])\n",
      "Target: 2759.231201171875\n",
      "Prediction: 3793.75341796875\n"
     ]
    }
   ],
   "source": [
    "input, target = val_ds[0]\n",
    "predict_single(input, target, test_model)"
   ]
  },
  {
   "cell_type": "code",
   "execution_count": 257,
   "id": "c9b5bba5",
   "metadata": {},
   "outputs": [
    {
     "name": "stdout",
     "output_type": "stream",
     "text": [
      "Input: tensor([31.0000,  1.0000, 32.5983,  1.0000,  0.0000])\n",
      "Target: 4286.02587890625\n",
      "Prediction: 5688.2548828125\n"
     ]
    }
   ],
   "source": [
    "input, target = val_ds[10]\n",
    "predict_single(input, target, test_model)"
   ]
  },
  {
   "cell_type": "code",
   "execution_count": 258,
   "id": "9ad5416d",
   "metadata": {},
   "outputs": [
    {
     "name": "stdout",
     "output_type": "stream",
     "text": [
      "Input: tensor([41.0000,  0.0000, 36.0240,  0.0000,  0.0000])\n",
      "Target: 6247.98828125\n",
      "Prediction: 8003.9453125\n"
     ]
    }
   ],
   "source": [
    "input, target = val_ds[26]\n",
    "predict_single(input, target, test_model)"
   ]
  },
  {
   "cell_type": "code",
   "execution_count": 252,
   "id": "a33e9161",
   "metadata": {},
   "outputs": [
    {
     "data": {
      "application/javascript": [
       "window.require && require([\"base/js/namespace\"],function(Jupyter){Jupyter.notebook.save_checkpoint()})"
      ],
      "text/plain": [
       "<IPython.core.display.Javascript object>"
      ]
     },
     "metadata": {},
     "output_type": "display_data"
    },
    {
     "name": "stdout",
     "output_type": "stream",
     "text": [
      "[jovian] Updating notebook \"presz/assignment-02\" on https://jovian.ai/\u001b[0m\n",
      "[jovian] Attaching records (metrics, hyperparameters, dataset etc.)\u001b[0m\n",
      "[jovian] Committed successfully! https://jovian.ai/presz/assignment-02\u001b[0m\n"
     ]
    },
    {
     "data": {
      "text/plain": [
       "'https://jovian.ai/presz/assignment-02'"
      ]
     },
     "execution_count": 252,
     "metadata": {},
     "output_type": "execute_result"
    }
   ],
   "source": [
    "jovian.commit()"
   ]
  },
  {
   "cell_type": "code",
   "execution_count": 259,
   "id": "a02a5aed",
   "metadata": {},
   "outputs": [
    {
     "data": {
      "application/javascript": [
       "window.require && require([\"base/js/namespace\"],function(Jupyter){Jupyter.notebook.save_checkpoint()})"
      ],
      "text/plain": [
       "<IPython.core.display.Javascript object>"
      ]
     },
     "metadata": {},
     "output_type": "display_data"
    },
    {
     "name": "stdout",
     "output_type": "stream",
     "text": [
      "[jovian] Updating notebook \"presz/assignment-02\" on https://jovian.ai/\u001b[0m\n",
      "[jovian] Attaching records (metrics, hyperparameters, dataset etc.)\u001b[0m\n",
      "[jovian] Committed successfully! https://jovian.ai/presz/assignment-02\u001b[0m\n",
      "[jovian] Submitting assignment..\u001b[0m\n",
      "[jovian] Verify your submission at https://jovian.ai/learn/deep-learning-with-pytorch-zero-to-gans/assignment/assignment-2-train-your-first-model\u001b[0m\n"
     ]
    }
   ],
   "source": [
    "jovian.submit(assignment=\"zerotogans-a2\")"
   ]
  },
  {
   "cell_type": "code",
   "execution_count": 264,
   "id": "cd47b60f",
   "metadata": {},
   "outputs": [],
   "source": [
    "def predict(input, target, model):\n",
    "    inputs = input.unsqueeze(0)\n",
    "    predictions = model(input)\n",
    "    prediction = predictions[0].detach()\n",
    "    return(target.item()-prediction.item())"
   ]
  },
  {
   "cell_type": "code",
   "execution_count": 266,
   "id": "31e09a5d",
   "metadata": {},
   "outputs": [
    {
     "name": "stdout",
     "output_type": "stream",
     "text": [
      "4533.4151611328125\n"
     ]
    }
   ],
   "source": [
    "sum = 0\n",
    "for i in range(batch_size):\n",
    "    input, target = val_ds[i]\n",
    "    sum += predict(input, target, test_model)\n",
    "print(sum/batch_size)"
   ]
  }
 ],
 "metadata": {
  "kernelspec": {
   "display_name": "Python 3 (ipykernel)",
   "language": "python",
   "name": "python3"
  },
  "language_info": {
   "codemirror_mode": {
    "name": "ipython",
    "version": 3
   },
   "file_extension": ".py",
   "mimetype": "text/x-python",
   "name": "python",
   "nbconvert_exporter": "python",
   "pygments_lexer": "ipython3",
   "version": "3.9.7"
  }
 },
 "nbformat": 4,
 "nbformat_minor": 5
}
